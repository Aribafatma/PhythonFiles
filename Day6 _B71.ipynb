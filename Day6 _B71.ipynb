{
 "cells": [
  {
   "cell_type": "code",
   "execution_count": null,
   "id": "931d411d",
   "metadata": {},
   "outputs": [],
   "source": [
    "Introduction to looping statements:"
   ]
  },
  {
   "cell_type": "code",
   "execution_count": null,
   "id": "a18048db",
   "metadata": {},
   "outputs": [],
   "source": [
    "1.for loop\n",
    "\n",
    "2.while loop"
   ]
  },
  {
   "cell_type": "code",
   "execution_count": null,
   "id": "4de0e68f",
   "metadata": {},
   "outputs": [],
   "source": []
  },
  {
   "cell_type": "code",
   "execution_count": null,
   "id": "a7ecca6e",
   "metadata": {},
   "outputs": [],
   "source": [
    "Introduction to For loop"
   ]
  },
  {
   "cell_type": "code",
   "execution_count": null,
   "id": "270d9ea8",
   "metadata": {},
   "outputs": [],
   "source": [
    "#general syntax of for loop"
   ]
  },
  {
   "cell_type": "code",
   "execution_count": null,
   "id": "e7ceaee6",
   "metadata": {},
   "outputs": [],
   "source": [
    "for tempvarnin mainvar:\n",
    "    print(tempvar)"
   ]
  },
  {
   "cell_type": "code",
   "execution_count": 1,
   "id": "1ccd288b",
   "metadata": {},
   "outputs": [],
   "source": [
    "students = ['ariba','riya','iqbal','naveen','ram','tabia']"
   ]
  },
  {
   "cell_type": "code",
   "execution_count": 2,
   "id": "5b4d02a9",
   "metadata": {},
   "outputs": [
    {
     "name": "stdout",
     "output_type": "stream",
     "text": [
      "['ariba', 'riya', 'iqbal', 'naveen', 'ram', 'tabia']\n"
     ]
    }
   ],
   "source": [
    "print(students)"
   ]
  },
  {
   "cell_type": "code",
   "execution_count": null,
   "id": "76cecc0d",
   "metadata": {},
   "outputs": [],
   "source": []
  },
  {
   "cell_type": "code",
   "execution_count": 3,
   "id": "7693d97c",
   "metadata": {},
   "outputs": [],
   "source": [
    "message = f\"keep the good work ,{students[0].title()}\""
   ]
  },
  {
   "cell_type": "code",
   "execution_count": 4,
   "id": "1ca120a7",
   "metadata": {},
   "outputs": [
    {
     "name": "stdout",
     "output_type": "stream",
     "text": [
      "keep the good work ,Ariba\n"
     ]
    }
   ],
   "source": [
    "print(message)"
   ]
  },
  {
   "cell_type": "code",
   "execution_count": 5,
   "id": "315be400",
   "metadata": {},
   "outputs": [],
   "source": [
    "message = f\"keep the good work ,{students[1].title()}\""
   ]
  },
  {
   "cell_type": "code",
   "execution_count": 6,
   "id": "280ceda7",
   "metadata": {},
   "outputs": [
    {
     "name": "stdout",
     "output_type": "stream",
     "text": [
      "keep the good work ,Riya\n"
     ]
    }
   ],
   "source": [
    "print(message)"
   ]
  },
  {
   "cell_type": "code",
   "execution_count": 8,
   "id": "26e4153d",
   "metadata": {
    "scrolled": true
   },
   "outputs": [
    {
     "name": "stdout",
     "output_type": "stream",
     "text": [
      "keep up the good work,Ariba\n",
      "keep up the good work,Riya\n",
      "keep up the good work,Iqbal\n",
      "keep up the good work,Naveen\n",
      "keep up the good work,Ram\n",
      "keep up the good work,Tabia\n"
     ]
    }
   ],
   "source": [
    "for x in students:\n",
    "    print(f\"keep up the good work,{x.title()}\")"
   ]
  },
  {
   "cell_type": "code",
   "execution_count": 9,
   "id": "e0518175",
   "metadata": {},
   "outputs": [
    {
     "ename": "NameError",
     "evalue": "name 'manivar' is not defined",
     "output_type": "error",
     "traceback": [
      "\u001b[1;31m---------------------------------------------------------------------------\u001b[0m",
      "\u001b[1;31mNameError\u001b[0m                                 Traceback (most recent call last)",
      "\u001b[1;32m~\\AppData\\Local\\Temp\\ipykernel_4088\\1437793229.py\u001b[0m in \u001b[0;36m<module>\u001b[1;34m\u001b[0m\n\u001b[1;32m----> 1\u001b[1;33m \u001b[1;32mfor\u001b[0m \u001b[0mtempvar\u001b[0m \u001b[1;32min\u001b[0m \u001b[0mmanivar\u001b[0m\u001b[1;33m:\u001b[0m\u001b[1;33m\u001b[0m\u001b[1;33m\u001b[0m\u001b[0m\n\u001b[0m\u001b[0;32m      2\u001b[0m     \u001b[0mprint\u001b[0m\u001b[1;33m(\u001b[0m\u001b[0mtempver\u001b[0m \u001b[1;33m)\u001b[0m\u001b[1;33m\u001b[0m\u001b[1;33m\u001b[0m\u001b[0m\n",
      "\u001b[1;31mNameError\u001b[0m: name 'manivar' is not defined"
     ]
    }
   ],
   "source": [
    "for tempvar in manivar:\n",
    "    print(tempver )"
   ]
  },
  {
   "cell_type": "code",
   "execution_count": 10,
   "id": "0fb39a03",
   "metadata": {},
   "outputs": [
    {
     "name": "stdout",
     "output_type": "stream",
     "text": [
      "ariba\n",
      "riya\n",
      "iqbal\n",
      "naveen\n",
      "ram\n",
      "tabia\n"
     ]
    }
   ],
   "source": [
    "for x in students:\n",
    "    print(x)  #indentation"
   ]
  },
  {
   "cell_type": "code",
   "execution_count": 11,
   "id": "81372597",
   "metadata": {},
   "outputs": [
    {
     "name": "stdout",
     "output_type": "stream",
     "text": [
      "ariba\n",
      "riya\n",
      "iqbal\n",
      "naveen\n",
      "ram\n",
      "tabia\n"
     ]
    }
   ],
   "source": [
    "for a in students:\n",
    "    print(a)"
   ]
  },
  {
   "cell_type": "code",
   "execution_count": 12,
   "id": "68578d25",
   "metadata": {},
   "outputs": [
    {
     "name": "stdout",
     "output_type": "stream",
     "text": [
      "keep up the good work,Ariba\n",
      "keep up the good work,Riya\n",
      "keep up the good work,Iqbal\n",
      "keep up the good work,Naveen\n",
      "keep up the good work,Ram\n",
      "keep up the good work,Tabia\n"
     ]
    }
   ],
   "source": [
    "for x in students:\n",
    "    print(f\"keep up the good work,{x.title()}\")"
   ]
  },
  {
   "cell_type": "code",
   "execution_count": 13,
   "id": "f87d76fb",
   "metadata": {},
   "outputs": [
    {
     "name": "stdout",
     "output_type": "stream",
     "text": [
      "keep up the good work,Ariba\n",
      "i will be looking forward to receive your today submission,Ariba\n",
      "keep up the good work,Riya\n",
      "i will be looking forward to receive your today submission,Riya\n",
      "keep up the good work,Iqbal\n",
      "i will be looking forward to receive your today submission,Iqbal\n",
      "keep up the good work,Naveen\n",
      "i will be looking forward to receive your today submission,Naveen\n",
      "keep up the good work,Ram\n",
      "i will be looking forward to receive your today submission,Ram\n",
      "keep up the good work,Tabia\n",
      "i will be looking forward to receive your today submission,Tabia\n"
     ]
    }
   ],
   "source": [
    "for x in students:\n",
    "    print(f\"keep up the good work,{x.title()}\")\n",
    "    print(f\"i will be looking forward to receive your today submission,{x.title()}\")"
   ]
  },
  {
   "cell_type": "code",
   "execution_count": 14,
   "id": "7c26e1df",
   "metadata": {},
   "outputs": [
    {
     "name": "stdout",
     "output_type": "stream",
     "text": [
      "keep up the good work,Ariba\n",
      "i will be looking forward to receive your today submission,Ariba\n",
      "\n",
      "keep up the good work,Riya\n",
      "i will be looking forward to receive your today submission,Riya\n",
      "\n",
      "keep up the good work,Iqbal\n",
      "i will be looking forward to receive your today submission,Iqbal\n",
      "\n",
      "keep up the good work,Naveen\n",
      "i will be looking forward to receive your today submission,Naveen\n",
      "\n",
      "keep up the good work,Ram\n",
      "i will be looking forward to receive your today submission,Ram\n",
      "\n",
      "keep up the good work,Tabia\n",
      "i will be looking forward to receive your today submission,Tabia\n",
      "\n"
     ]
    }
   ],
   "source": [
    "for x in students:\n",
    "    print(f\"keep up the good work,{x.title()}\")\n",
    "    print(f\"i will be looking forward to receive your today submission,{x.title()}\\n\")"
   ]
  },
  {
   "cell_type": "code",
   "execution_count": 15,
   "id": "d58f2143",
   "metadata": {},
   "outputs": [
    {
     "name": "stdout",
     "output_type": "stream",
     "text": [
      "keep up the good work,Ariba\n",
      "i will be looking forward to receive your today submission,Ariba\n",
      "\n",
      "Thank you all for joining in the session\n",
      "keep up the good work,Riya\n",
      "i will be looking forward to receive your today submission,Riya\n",
      "\n",
      "Thank you all for joining in the session\n",
      "keep up the good work,Iqbal\n",
      "i will be looking forward to receive your today submission,Iqbal\n",
      "\n",
      "Thank you all for joining in the session\n",
      "keep up the good work,Naveen\n",
      "i will be looking forward to receive your today submission,Naveen\n",
      "\n",
      "Thank you all for joining in the session\n",
      "keep up the good work,Ram\n",
      "i will be looking forward to receive your today submission,Ram\n",
      "\n",
      "Thank you all for joining in the session\n",
      "keep up the good work,Tabia\n",
      "i will be looking forward to receive your today submission,Tabia\n",
      "\n",
      "Thank you all for joining in the session\n"
     ]
    }
   ],
   "source": [
    "for x in students:\n",
    "    print(f\"keep up the good work,{x.title()}\")\n",
    "    print(f\"i will be looking forward to receive your today submission,{x.title()}\\n\") #it will applied to all the elements in the list\n",
    "    \n",
    "    print(\"Thank you all for joining in the session\")   # only once impact"
   ]
  },
  {
   "cell_type": "code",
   "execution_count": null,
   "id": "91fb1e3e",
   "metadata": {},
   "outputs": [],
   "source": []
  },
  {
   "cell_type": "code",
   "execution_count": null,
   "id": "582743b6",
   "metadata": {},
   "outputs": [],
   "source": []
  },
  {
   "cell_type": "code",
   "execution_count": null,
   "id": "b706a021",
   "metadata": {},
   "outputs": [],
   "source": []
  },
  {
   "cell_type": "code",
   "execution_count": null,
   "id": "432e4f6e",
   "metadata": {},
   "outputs": [],
   "source": []
  },
  {
   "cell_type": "code",
   "execution_count": null,
   "id": "7a790942",
   "metadata": {},
   "outputs": [],
   "source": []
  },
  {
   "cell_type": "code",
   "execution_count": null,
   "id": "39f2f2db",
   "metadata": {},
   "outputs": [],
   "source": []
  },
  {
   "cell_type": "code",
   "execution_count": null,
   "id": "5340cd43",
   "metadata": {},
   "outputs": [],
   "source": []
  },
  {
   "cell_type": "code",
   "execution_count": null,
   "id": "788f2493",
   "metadata": {},
   "outputs": [],
   "source": []
  },
  {
   "cell_type": "code",
   "execution_count": null,
   "id": "102606ea",
   "metadata": {},
   "outputs": [],
   "source": []
  },
  {
   "cell_type": "code",
   "execution_count": null,
   "id": "cb0fe8a2",
   "metadata": {},
   "outputs": [],
   "source": []
  },
  {
   "cell_type": "code",
   "execution_count": null,
   "id": "63585ada",
   "metadata": {},
   "outputs": [],
   "source": []
  },
  {
   "cell_type": "code",
   "execution_count": null,
   "id": "a810989c",
   "metadata": {},
   "outputs": [],
   "source": []
  },
  {
   "cell_type": "code",
   "execution_count": null,
   "id": "4074fe4f",
   "metadata": {},
   "outputs": [],
   "source": []
  },
  {
   "cell_type": "code",
   "execution_count": null,
   "id": "f332b7fe",
   "metadata": {},
   "outputs": [],
   "source": []
  },
  {
   "cell_type": "code",
   "execution_count": null,
   "id": "6fd313e2",
   "metadata": {},
   "outputs": [],
   "source": []
  }
 ],
 "metadata": {
  "kernelspec": {
   "display_name": "Python 3 (ipykernel)",
   "language": "python",
   "name": "python3"
  },
  "language_info": {
   "codemirror_mode": {
    "name": "ipython",
    "version": 3
   },
   "file_extension": ".py",
   "mimetype": "text/x-python",
   "name": "python",
   "nbconvert_exporter": "python",
   "pygments_lexer": "ipython3",
   "version": "3.9.13"
  }
 },
 "nbformat": 4,
 "nbformat_minor": 5
}
