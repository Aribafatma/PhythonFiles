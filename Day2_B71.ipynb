{
 "cells": [
  {
   "cell_type": "code",
   "execution_count": null,
   "id": "cc5e0be7",
   "metadata": {},
   "outputs": [],
   "source": [
    "understanding the variables in python :"
   ]
  },
  {
   "cell_type": "code",
   "execution_count": null,
   "id": "d3fa0c91",
   "metadata": {},
   "outputs": [],
   "source": []
  },
  {
   "cell_type": "code",
   "execution_count": 1,
   "id": "fea99ee6",
   "metadata": {},
   "outputs": [],
   "source": [
    "x = 2\n",
    "y = 3"
   ]
  },
  {
   "cell_type": "code",
   "execution_count": 3,
   "id": "dacc9b9d",
   "metadata": {},
   "outputs": [
    {
     "name": "stdout",
     "output_type": "stream",
     "text": [
      "5\n"
     ]
    }
   ],
   "source": [
    "z = x+y\n",
    "print(z)"
   ]
  },
  {
   "cell_type": "code",
   "execution_count": null,
   "id": "db0ec0d0",
   "metadata": {},
   "outputs": [],
   "source": []
  },
  {
   "cell_type": "code",
   "execution_count": null,
   "id": "74e8ec65",
   "metadata": {},
   "outputs": [],
   "source": [
    "Rules for declaring the variables in python :"
   ]
  },
  {
   "cell_type": "code",
   "execution_count": null,
   "id": "85b9994d",
   "metadata": {},
   "outputs": [],
   "source": [
    "Rule No - 1 : A variable name should not contain any namespaces"
   ]
  },
  {
   "cell_type": "code",
   "execution_count": 4,
   "id": "13f8997a",
   "metadata": {},
   "outputs": [
    {
     "ename": "SyntaxError",
     "evalue": "invalid syntax (2642777287.py, line 1)",
     "output_type": "error",
     "traceback": [
      "\u001b[1;36m  File \u001b[1;32m\"C:\\Users\\dell\\AppData\\Local\\Temp\\ipykernel_12588\\2642777287.py\"\u001b[1;36m, line \u001b[1;32m1\u001b[0m\n\u001b[1;33m    first name = 'Faiyaz'\u001b[0m\n\u001b[1;37m          ^\u001b[0m\n\u001b[1;31mSyntaxError\u001b[0m\u001b[1;31m:\u001b[0m invalid syntax\n"
     ]
    }
   ],
   "source": [
    "first name = 'Faiyaz'\n",
    "print(first name)"
   ]
  },
  {
   "cell_type": "code",
   "execution_count": 6,
   "id": "49718f08",
   "metadata": {},
   "outputs": [
    {
     "name": "stdout",
     "output_type": "stream",
     "text": [
      "Faiyaz\n"
     ]
    }
   ],
   "source": [
    "firstname = 'Faiyaz'\n",
    "print(firstname)"
   ]
  },
  {
   "cell_type": "code",
   "execution_count": 7,
   "id": "5c59bdc9",
   "metadata": {},
   "outputs": [
    {
     "name": "stdout",
     "output_type": "stream",
     "text": [
      "Faiyaz\n"
     ]
    }
   ],
   "source": [
    "first_name = 'Faiyaz'\n",
    "print(first_name)"
   ]
  },
  {
   "cell_type": "code",
   "execution_count": null,
   "id": "da37a6f2",
   "metadata": {},
   "outputs": [],
   "source": [
    "Rule no 2: A variable name should not start with the number **"
   ]
  },
  {
   "cell_type": "code",
   "execution_count": 8,
   "id": "fb79d56e",
   "metadata": {},
   "outputs": [
    {
     "ename": "SyntaxError",
     "evalue": "invalid syntax (369295927.py, line 1)",
     "output_type": "error",
     "traceback": [
      "\u001b[1;36m  File \u001b[1;32m\"C:\\Users\\dell\\AppData\\Local\\Temp\\ipykernel_12588\\369295927.py\"\u001b[1;36m, line \u001b[1;32m1\u001b[0m\n\u001b[1;33m    1name = 'david'\u001b[0m\n\u001b[1;37m     ^\u001b[0m\n\u001b[1;31mSyntaxError\u001b[0m\u001b[1;31m:\u001b[0m invalid syntax\n"
     ]
    }
   ],
   "source": [
    "1name = 'david'\n",
    "print(1name)"
   ]
  },
  {
   "cell_type": "code",
   "execution_count": 9,
   "id": "4e309c4e",
   "metadata": {},
   "outputs": [
    {
     "name": "stdout",
     "output_type": "stream",
     "text": [
      "david\n"
     ]
    }
   ],
   "source": [
    "name1 = 'david'\n",
    "print(name1)"
   ]
  },
  {
   "cell_type": "code",
   "execution_count": null,
   "id": "e403d27a",
   "metadata": {},
   "outputs": [],
   "source": [
    "Rule no 3 : A variable name should not contain anyspecial characters "
   ]
  },
  {
   "cell_type": "code",
   "execution_count": null,
   "id": "f79c1a7c",
   "metadata": {},
   "outputs": [],
   "source": [
    "@ # $ & *"
   ]
  },
  {
   "cell_type": "markdown",
   "id": "9235c16c",
   "metadata": {},
   "source": []
  },
  {
   "cell_type": "code",
   "execution_count": 10,
   "id": "3ce65938",
   "metadata": {},
   "outputs": [
    {
     "ename": "SyntaxError",
     "evalue": "invalid syntax (4230373084.py, line 1)",
     "output_type": "error",
     "traceback": [
      "\u001b[1;36m  File \u001b[1;32m\"C:\\Users\\dell\\AppData\\Local\\Temp\\ipykernel_12588\\4230373084.py\"\u001b[1;36m, line \u001b[1;32m1\u001b[0m\n\u001b[1;33m    name@ = 'areeba'\u001b[0m\n\u001b[1;37m          ^\u001b[0m\n\u001b[1;31mSyntaxError\u001b[0m\u001b[1;31m:\u001b[0m invalid syntax\n"
     ]
    }
   ],
   "source": [
    "name@ = 'areeba'\n",
    "print(name@)"
   ]
  },
  {
   "cell_type": "code",
   "execution_count": null,
   "id": "bbd211c5",
   "metadata": {},
   "outputs": [],
   "source": [
    "introduction to datatypes in python "
   ]
  },
  {
   "cell_type": "code",
   "execution_count": null,
   "id": "ac38e590",
   "metadata": {},
   "outputs": [],
   "source": [
    "1. string ====> str\n",
    "2. Numbers ----> integers ====>int  floats =====>float(dec)\n",
    "3.lists ====> list\n",
    "4.tuples ====> tuple\n",
    "5.dictionaries ====>dict"
   ]
  },
  {
   "cell_type": "code",
   "execution_count": null,
   "id": "912f295c",
   "metadata": {},
   "outputs": [],
   "source": []
  },
  {
   "cell_type": "code",
   "execution_count": null,
   "id": "f3de12a2",
   "metadata": {},
   "outputs": [],
   "source": [
    "classification of datatypes :\n",
    "    broadly classified in two categories \n",
    "    1. mutable datatypes ====> which we edit and alter ====> flexible in nature\n",
    "    2. immutable datatypes ====> which we cannot edit and alter ====> fixed in nature"
   ]
  },
  {
   "cell_type": "code",
   "execution_count": null,
   "id": "dd46115d",
   "metadata": {},
   "outputs": [],
   "source": []
  },
  {
   "cell_type": "code",
   "execution_count": null,
   "id": "13d7122e",
   "metadata": {},
   "outputs": [],
   "source": [
    "introduction to string datatype :\n",
    "defination : A string is nothing but a series of characters decalred in quotes\n",
    "classification: it is classified as an immutable datatype (fixed datatype)\n",
    "    \n",
    "how to declare/define the string datatypes :\n",
    "    1.single quote====> ''\n",
    "    2.double quote====> \" \" \n",
    "    3.triple quote====> \"\"\" \"\"\" "
   ]
  },
  {
   "cell_type": "markdown",
   "id": "2d61e386",
   "metadata": {},
   "source": []
  },
  {
   "cell_type": "code",
   "execution_count": 11,
   "id": "9e8647a2",
   "metadata": {},
   "outputs": [
    {
     "name": "stdout",
     "output_type": "stream",
     "text": [
      "kumar\n"
     ]
    }
   ],
   "source": [
    "name = 'kumar'  #single quote\n",
    "print(name)"
   ]
  },
  {
   "cell_type": "code",
   "execution_count": 12,
   "id": "5056bc04",
   "metadata": {},
   "outputs": [
    {
     "name": "stdout",
     "output_type": "stream",
     "text": [
      "juveriya\n"
     ]
    }
   ],
   "source": [
    "name2 = \"juveriya\"   #double quote\n",
    "print(name2)"
   ]
  },
  {
   "cell_type": "code",
   "execution_count": 13,
   "id": "32c33535",
   "metadata": {},
   "outputs": [
    {
     "name": "stdout",
     "output_type": "stream",
     "text": [
      "rishi\n"
     ]
    }
   ],
   "source": [
    "name3 = \"\"\"rishi\"\"\"    #triple quote\n",
    "print(name3)"
   ]
  },
  {
   "cell_type": "code",
   "execution_count": null,
   "id": "54892158",
   "metadata": {},
   "outputs": [],
   "source": []
  }
 ],
 "metadata": {
  "kernelspec": {
   "display_name": "Python 3 (ipykernel)",
   "language": "python",
   "name": "python3"
  },
  "language_info": {
   "codemirror_mode": {
    "name": "ipython",
    "version": 3
   },
   "file_extension": ".py",
   "mimetype": "text/x-python",
   "name": "python",
   "nbconvert_exporter": "python",
   "pygments_lexer": "ipython3",
   "version": "3.9.13"
  }
 },
 "nbformat": 4,
 "nbformat_minor": 5
}
