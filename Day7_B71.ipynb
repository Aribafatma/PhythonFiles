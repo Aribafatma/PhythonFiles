{
 "cells": [
  {
   "cell_type": "code",
   "execution_count": null,
   "id": "248bc761",
   "metadata": {},
   "outputs": [],
   "source": [
    "introduction to ditionary datatypes:"
   ]
  },
  {
   "cell_type": "code",
   "execution_count": null,
   "id": "73082226",
   "metadata": {},
   "outputs": [],
   "source": [
    "defination: a dictionary is a combination of key value pairs.\n",
    "    classification: it is classified as a mutable datatype\n",
    "        how to define the dictionary.....? ======>{}"
   ]
  },
  {
   "cell_type": "code",
   "execution_count": null,
   "id": "7e8a6e06",
   "metadata": {},
   "outputs": [],
   "source": []
  },
  {
   "cell_type": "code",
   "execution_count": null,
   "id": "b5d2f520",
   "metadata": {},
   "outputs": [],
   "source": [
    "#req :alien====>"
   ]
  },
  {
   "cell_type": "code",
   "execution_count": null,
   "id": "703d92ac",
   "metadata": {},
   "outputs": [],
   "source": []
  },
  {
   "cell_type": "code",
   "execution_count": 8,
   "id": "2d19131b",
   "metadata": {},
   "outputs": [],
   "source": [
    "alien = {'colour':'green','points':5}"
   ]
  },
  {
   "cell_type": "code",
   "execution_count": 9,
   "id": "e34f2082",
   "metadata": {},
   "outputs": [
    {
     "name": "stdout",
     "output_type": "stream",
     "text": [
      "{'colour': 'green', 'points': 5}\n"
     ]
    }
   ],
   "source": [
    "print(alien)"
   ]
  },
  {
   "cell_type": "code",
   "execution_count": 4,
   "id": "7cae97b9",
   "metadata": {},
   "outputs": [
    {
     "data": {
      "text/plain": [
       "dict"
      ]
     },
     "execution_count": 4,
     "metadata": {},
     "output_type": "execute_result"
    }
   ],
   "source": [
    "type(alien)"
   ]
  },
  {
   "cell_type": "code",
   "execution_count": null,
   "id": "354491a8",
   "metadata": {},
   "outputs": [],
   "source": []
  },
  {
   "cell_type": "code",
   "execution_count": null,
   "id": "817838dc",
   "metadata": {},
   "outputs": [],
   "source": [
    "#req = how to acess the key value pairs\n",
    "\n",
    "# give the key and get the value"
   ]
  },
  {
   "cell_type": "code",
   "execution_count": null,
   "id": "036290b2",
   "metadata": {},
   "outputs": [],
   "source": [
    "#req : i want to know the colour of alien"
   ]
  },
  {
   "cell_type": "code",
   "execution_count": 7,
   "id": "369c6770",
   "metadata": {},
   "outputs": [
    {
     "name": "stdout",
     "output_type": "stream",
     "text": [
      "green\n"
     ]
    }
   ],
   "source": [
    "print(alien['colour'])"
   ]
  },
  {
   "cell_type": "code",
   "execution_count": 10,
   "id": "b219c3c0",
   "metadata": {},
   "outputs": [
    {
     "name": "stdout",
     "output_type": "stream",
     "text": [
      "5\n"
     ]
    }
   ],
   "source": [
    "print(alien['points'])"
   ]
  },
  {
   "cell_type": "code",
   "execution_count": null,
   "id": "e6dc440d",
   "metadata": {},
   "outputs": [],
   "source": [
    "#req :how to add new key value pairs to the dictionary.....?"
   ]
  },
  {
   "cell_type": "code",
   "execution_count": null,
   "id": "977f1af7",
   "metadata": {},
   "outputs": [],
   "source": [
    "#req: start_position------>"
   ]
  },
  {
   "cell_type": "code",
   "execution_count": 11,
   "id": "ec4a2c3e",
   "metadata": {},
   "outputs": [],
   "source": [
    "alien['start_position'] = 0"
   ]
  },
  {
   "cell_type": "code",
   "execution_count": 12,
   "id": "2e200f81",
   "metadata": {},
   "outputs": [
    {
     "name": "stdout",
     "output_type": "stream",
     "text": [
      "{'colour': 'green', 'points': 5, 'start_position': 0}\n"
     ]
    }
   ],
   "source": [
    "print(alien)"
   ]
  },
  {
   "cell_type": "code",
   "execution_count": null,
   "id": "25fe9477",
   "metadata": {},
   "outputs": [],
   "source": [
    "can i give the value and get the key .....? =====>no it is not accepted,only we can give the key and get the value."
   ]
  },
  {
   "cell_type": "code",
   "execution_count": 13,
   "id": "f638b136",
   "metadata": {},
   "outputs": [
    {
     "ename": "KeyError",
     "evalue": "5",
     "output_type": "error",
     "traceback": [
      "\u001b[1;31m---------------------------------------------------------------------------\u001b[0m",
      "\u001b[1;31mKeyError\u001b[0m                                  Traceback (most recent call last)",
      "\u001b[1;32m~\\AppData\\Local\\Temp\\ipykernel_15124\\3842542726.py\u001b[0m in \u001b[0;36m<module>\u001b[1;34m\u001b[0m\n\u001b[1;32m----> 1\u001b[1;33m \u001b[0mprint\u001b[0m\u001b[1;33m(\u001b[0m\u001b[0malien\u001b[0m\u001b[1;33m[\u001b[0m\u001b[1;36m5\u001b[0m\u001b[1;33m]\u001b[0m\u001b[1;33m)\u001b[0m\u001b[1;33m\u001b[0m\u001b[1;33m\u001b[0m\u001b[0m\n\u001b[0m",
      "\u001b[1;31mKeyError\u001b[0m: 5"
     ]
    }
   ],
   "source": [
    "print(alien[5])"
   ]
  },
  {
   "cell_type": "code",
   "execution_count": null,
   "id": "9ce7d98a",
   "metadata": {},
   "outputs": [],
   "source": [
    "#how to modifiy the key value pairs....?\n"
   ]
  },
  {
   "cell_type": "code",
   "execution_count": 14,
   "id": "0a077d9e",
   "metadata": {},
   "outputs": [
    {
     "name": "stdout",
     "output_type": "stream",
     "text": [
      "{'colour': 'green', 'points': 5, 'start_position': 0}\n"
     ]
    }
   ],
   "source": [
    "print(alien)"
   ]
  },
  {
   "cell_type": "code",
   "execution_count": 15,
   "id": "cc91eca7",
   "metadata": {},
   "outputs": [],
   "source": [
    "alien['points'] = 10"
   ]
  },
  {
   "cell_type": "code",
   "execution_count": 16,
   "id": "cae74d44",
   "metadata": {},
   "outputs": [
    {
     "name": "stdout",
     "output_type": "stream",
     "text": [
      "{'colour': 'green', 'points': 10, 'start_position': 0}\n"
     ]
    }
   ],
   "source": [
    "print(alien)"
   ]
  },
  {
   "cell_type": "code",
   "execution_count": null,
   "id": "7ae6ab8b",
   "metadata": {},
   "outputs": [],
   "source": [
    "#req : how to delete the key value pairs"
   ]
  },
  {
   "cell_type": "code",
   "execution_count": 17,
   "id": "7c3205c2",
   "metadata": {},
   "outputs": [],
   "source": [
    "del alien['start_position']"
   ]
  },
  {
   "cell_type": "code",
   "execution_count": 18,
   "id": "94fa198e",
   "metadata": {},
   "outputs": [
    {
     "name": "stdout",
     "output_type": "stream",
     "text": [
      "{'colour': 'green', 'points': 10}\n"
     ]
    }
   ],
   "source": [
    "print(alien)"
   ]
  },
  {
   "cell_type": "code",
   "execution_count": null,
   "id": "00d34a51",
   "metadata": {},
   "outputs": [],
   "source": [
    "#create a user account in Facebook.....?"
   ]
  },
  {
   "cell_type": "code",
   "execution_count": null,
   "id": "993c5821",
   "metadata": {},
   "outputs": [],
   "source": []
  },
  {
   "cell_type": "code",
   "execution_count": 24,
   "id": "e989ac94",
   "metadata": {},
   "outputs": [],
   "source": [
    "user_account = {'username':'codetrainingacademy','firstname':'code','lastname':'training','dob':'01-01-2020','pwd':'54321'}"
   ]
  },
  {
   "cell_type": "code",
   "execution_count": 25,
   "id": "5867763e",
   "metadata": {},
   "outputs": [
    {
     "name": "stdout",
     "output_type": "stream",
     "text": [
      "{'username': 'codetrainingacademy', 'firstname': 'code', 'lastname': 'training', 'dob': '01-01-2020', 'pwd': '54321'}\n"
     ]
    }
   ],
   "source": [
    "print(user_account)"
   ]
  },
  {
   "cell_type": "code",
   "execution_count": 26,
   "id": "78acfac9",
   "metadata": {},
   "outputs": [
    {
     "name": "stdout",
     "output_type": "stream",
     "text": [
      "code\n"
     ]
    }
   ],
   "source": [
    "print(user_account ['firstname'])"
   ]
  },
  {
   "cell_type": "code",
   "execution_count": null,
   "id": "3dbe92a8",
   "metadata": {},
   "outputs": [],
   "source": [
    "#implementation of a for loop on the dictionary "
   ]
  },
  {
   "cell_type": "code",
   "execution_count": null,
   "id": "b2894595",
   "metadata": {},
   "outputs": [],
   "source": [
    "key,value"
   ]
  },
  {
   "cell_type": "code",
   "execution_count": null,
   "id": "267f7914",
   "metadata": {},
   "outputs": [],
   "source": [
    "#general syntax of a for loop"
   ]
  },
  {
   "cell_type": "code",
   "execution_count": null,
   "id": "3382ac7f",
   "metadata": {},
   "outputs": [],
   "source": [
    "for tempvar1, tempvar2 in manivar.items():\n",
    "    print(tempvar1)\n",
    "    print(tempver2)"
   ]
  },
  {
   "cell_type": "code",
   "execution_count": null,
   "id": "6ff0cd5c",
   "metadata": {},
   "outputs": [],
   "source": []
  },
  {
   "cell_type": "code",
   "execution_count": 27,
   "id": "49d9ec79",
   "metadata": {},
   "outputs": [
    {
     "name": "stdout",
     "output_type": "stream",
     "text": [
      "username\n",
      "codetrainingacademy\n",
      "firstname\n",
      "code\n",
      "lastname\n",
      "training\n",
      "dob\n",
      "01-01-2020\n",
      "pwd\n",
      "54321\n"
     ]
    }
   ],
   "source": [
    "for x,y in user_account.items():\n",
    "    print(x)\n",
    "    print(y)"
   ]
  },
  {
   "cell_type": "code",
   "execution_count": 28,
   "id": "e9f6e2b5",
   "metadata": {},
   "outputs": [
    {
     "name": "stdout",
     "output_type": "stream",
     "text": [
      "key:username\n",
      "value:codetrainingacademy\n",
      "\n",
      "key:firstname\n",
      "value:code\n",
      "\n",
      "key:lastname\n",
      "value:training\n",
      "\n",
      "key:dob\n",
      "value:01-01-2020\n",
      "\n",
      "key:pwd\n",
      "value:54321\n",
      "\n"
     ]
    }
   ],
   "source": [
    "for x,y in user_account.items():\n",
    "    print(f\"key:{x}\")\n",
    "    print(f\"value:{y}\\n\")"
   ]
  },
  {
   "cell_type": "code",
   "execution_count": null,
   "id": "44a37824",
   "metadata": {},
   "outputs": [],
   "source": [
    "# i want to get only the keys....?"
   ]
  },
  {
   "cell_type": "code",
   "execution_count": 29,
   "id": "fe979cac",
   "metadata": {},
   "outputs": [
    {
     "name": "stdout",
     "output_type": "stream",
     "text": [
      "values:codetrainingacademy\n",
      "values:code\n",
      "values:training\n",
      "values:01-01-2020\n",
      "values:54321\n"
     ]
    }
   ],
   "source": [
    "for b in user_account.values():\n",
    "    print(f\"values:{b}\")"
   ]
  },
  {
   "cell_type": "code",
   "execution_count": null,
   "id": "4db2b8b3",
   "metadata": {},
   "outputs": [],
   "source": []
  }
 ],
 "metadata": {
  "kernelspec": {
   "display_name": "Python 3 (ipykernel)",
   "language": "python",
   "name": "python3"
  },
  "language_info": {
   "codemirror_mode": {
    "name": "ipython",
    "version": 3
   },
   "file_extension": ".py",
   "mimetype": "text/x-python",
   "name": "python",
   "nbconvert_exporter": "python",
   "pygments_lexer": "ipython3",
   "version": "3.9.13"
  }
 },
 "nbformat": 4,
 "nbformat_minor": 5
}
