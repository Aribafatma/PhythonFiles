{
 "cells": [
  {
   "cell_type": "code",
   "execution_count": null,
   "id": "3ff2d391",
   "metadata": {},
   "outputs": [],
   "source": [
    "continuation with lists:"
   ]
  },
  {
   "cell_type": "code",
   "execution_count": null,
   "id": "02c1954a",
   "metadata": {},
   "outputs": [],
   "source": []
  },
  {
   "cell_type": "code",
   "execution_count": null,
   "id": "23285e84",
   "metadata": {},
   "outputs": [],
   "source": [
    "organising the list datatypes"
   ]
  },
  {
   "cell_type": "code",
   "execution_count": null,
   "id": "5365f4c0",
   "metadata": {},
   "outputs": [],
   "source": []
  },
  {
   "cell_type": "code",
   "execution_count": 1,
   "id": "88605ec1",
   "metadata": {},
   "outputs": [],
   "source": [
    "cars = ['kia','hyundai','audi','suzuki','bmw','maruthi','benz']"
   ]
  },
  {
   "cell_type": "code",
   "execution_count": 2,
   "id": "83a59851",
   "metadata": {},
   "outputs": [
    {
     "name": "stdout",
     "output_type": "stream",
     "text": [
      "['kia', 'hyundai', 'audi', 'suzuki', 'bmw', 'maruthi', 'benz']\n"
     ]
    }
   ],
   "source": [
    "print(cars)"
   ]
  },
  {
   "cell_type": "code",
   "execution_count": null,
   "id": "e29ea21d",
   "metadata": {},
   "outputs": [],
   "source": []
  },
  {
   "cell_type": "code",
   "execution_count": null,
   "id": "54033885",
   "metadata": {},
   "outputs": [],
   "source": [
    "#req : i want to arrenge the above car brands in the alphabetical order"
   ]
  },
  {
   "cell_type": "code",
   "execution_count": null,
   "id": "13f0972f",
   "metadata": {},
   "outputs": [],
   "source": [
    "2 approches:\n",
    "    1.temporary approaches----->we can have the original order of the list declared====> sorted\n",
    "    2.permanent approaches------>the changes will be applied permanently =====>sort"
   ]
  },
  {
   "cell_type": "code",
   "execution_count": null,
   "id": "e7ecada9",
   "metadata": {},
   "outputs": [],
   "source": []
  },
  {
   "cell_type": "code",
   "execution_count": 3,
   "id": "de889dd8",
   "metadata": {},
   "outputs": [
    {
     "name": "stdout",
     "output_type": "stream",
     "text": [
      "['audi', 'benz', 'bmw', 'hyundai', 'kia', 'maruthi', 'suzuki']\n"
     ]
    }
   ],
   "source": [
    "print(sorted(cars))"
   ]
  },
  {
   "cell_type": "code",
   "execution_count": null,
   "id": "30c00b42",
   "metadata": {},
   "outputs": [],
   "source": [
    "benz and bmw ====>b,b e and m"
   ]
  },
  {
   "cell_type": "code",
   "execution_count": 14,
   "id": "da4f4b94",
   "metadata": {},
   "outputs": [
    {
     "name": "stdout",
     "output_type": "stream",
     "text": [
      "['kia', 'hyundai', 'audi', 'suzuki', 'bmw', 'maruthi', 'benz']\n"
     ]
    }
   ],
   "source": [
    "print(cars)"
   ]
  },
  {
   "cell_type": "code",
   "execution_count": null,
   "id": "863e4882",
   "metadata": {},
   "outputs": [],
   "source": []
  },
  {
   "cell_type": "code",
   "execution_count": 17,
   "id": "609b0c65",
   "metadata": {},
   "outputs": [],
   "source": [
    "cars.sort()"
   ]
  },
  {
   "cell_type": "code",
   "execution_count": 18,
   "id": "e0315bf0",
   "metadata": {},
   "outputs": [
    {
     "name": "stdout",
     "output_type": "stream",
     "text": [
      "['audi', 'benz', 'bmw', 'hyundai', 'kia', 'maruthi', 'suzuki']\n"
     ]
    }
   ],
   "source": [
    "print(cars)"
   ]
  },
  {
   "cell_type": "code",
   "execution_count": 19,
   "id": "4499edf0",
   "metadata": {},
   "outputs": [
    {
     "name": "stdout",
     "output_type": "stream",
     "text": [
      "['audi', 'benz', 'bmw', 'hyundai', 'kia', 'maruthi', 'suzuki']\n"
     ]
    }
   ],
   "source": [
    "print(cars)"
   ]
  },
  {
   "cell_type": "code",
   "execution_count": null,
   "id": "daf5f97c",
   "metadata": {},
   "outputs": [],
   "source": [
    "interview questions: what is the difference between sorted and sort met"
   ]
  },
  {
   "cell_type": "code",
   "execution_count": null,
   "id": "5c86d1dc",
   "metadata": {},
   "outputs": [],
   "source": []
  },
  {
   "cell_type": "code",
   "execution_count": null,
   "id": "3dec8436",
   "metadata": {},
   "outputs": [],
   "source": [
    "# i want to print the entire list reverse order----->"
   ]
  },
  {
   "cell_type": "code",
   "execution_count": 20,
   "id": "26c7d5b1",
   "metadata": {},
   "outputs": [],
   "source": [
    "cars.reverse()"
   ]
  },
  {
   "cell_type": "code",
   "execution_count": 21,
   "id": "88d8b8e1",
   "metadata": {},
   "outputs": [
    {
     "name": "stdout",
     "output_type": "stream",
     "text": [
      "['suzuki', 'maruthi', 'kia', 'hyundai', 'bmw', 'benz', 'audi']\n"
     ]
    }
   ],
   "source": [
    "print(cars)"
   ]
  },
  {
   "cell_type": "code",
   "execution_count": null,
   "id": "4af5f90c",
   "metadata": {},
   "outputs": [],
   "source": []
  },
  {
   "cell_type": "code",
   "execution_count": null,
   "id": "1c054940",
   "metadata": {},
   "outputs": [],
   "source": [
    "# i want to count the number of elements in the list.....?"
   ]
  },
  {
   "cell_type": "code",
   "execution_count": 4,
   "id": "5b677900",
   "metadata": {},
   "outputs": [
    {
     "data": {
      "text/plain": [
       "7"
      ]
     },
     "execution_count": 4,
     "metadata": {},
     "output_type": "execute_result"
    }
   ],
   "source": [
    "len(cars)"
   ]
  },
  {
   "cell_type": "code",
   "execution_count": null,
   "id": "dfa41fb8",
   "metadata": {},
   "outputs": [],
   "source": [
    "introduction to the slicing :"
   ]
  },
  {
   "cell_type": "code",
   "execution_count": null,
   "id": "f84ef5a9",
   "metadata": {},
   "outputs": [],
   "source": [
    "#general syntax of slicing :\n",
    "\n",
    "[starvalue:stopvalue:stepcount]\n",
    "\n",
    "note: always stop value is exclusive, to include the stop value we have to increment the index number +1. "
   ]
  },
  {
   "cell_type": "code",
   "execution_count": null,
   "id": "56c32cae",
   "metadata": {},
   "outputs": [],
   "source": []
  },
  {
   "cell_type": "code",
   "execution_count": 5,
   "id": "63cb6e7c",
   "metadata": {},
   "outputs": [],
   "source": [
    "students = ['sonu', 'ram','riya','jiya','areeba','ramesh','hameed','vasu']"
   ]
  },
  {
   "cell_type": "code",
   "execution_count": 6,
   "id": "51655871",
   "metadata": {},
   "outputs": [
    {
     "name": "stdout",
     "output_type": "stream",
     "text": [
      "['sonu', 'ram', 'riya', 'jiya', 'areeba', 'ramesh', 'hameed', 'vasu']\n"
     ]
    }
   ],
   "source": [
    "print(students)"
   ]
  },
  {
   "cell_type": "code",
   "execution_count": 7,
   "id": "f847bd80",
   "metadata": {},
   "outputs": [
    {
     "data": {
      "text/plain": [
       "list"
      ]
     },
     "execution_count": 7,
     "metadata": {},
     "output_type": "execute_result"
    }
   ],
   "source": [
    "type(students)"
   ]
  },
  {
   "cell_type": "code",
   "execution_count": null,
   "id": "0ceb2a86",
   "metadata": {},
   "outputs": [],
   "source": [
    "#req : i want to include sonu and ram------"
   ]
  },
  {
   "cell_type": "code",
   "execution_count": 8,
   "id": "8164fc71",
   "metadata": {},
   "outputs": [
    {
     "name": "stdout",
     "output_type": "stream",
     "text": [
      "['sonu']\n"
     ]
    }
   ],
   "source": [
    "print(students[0:1])"
   ]
  },
  {
   "cell_type": "code",
   "execution_count": 10,
   "id": "16141b16",
   "metadata": {},
   "outputs": [
    {
     "name": "stdout",
     "output_type": "stream",
     "text": [
      "['sonu', 'ram']\n"
     ]
    }
   ],
   "source": [
    "print(students[0:2])"
   ]
  },
  {
   "cell_type": "code",
   "execution_count": 11,
   "id": "774f0f8b",
   "metadata": {},
   "outputs": [
    {
     "name": "stdout",
     "output_type": "stream",
     "text": [
      "['riya', 'jiya']\n"
     ]
    }
   ],
   "source": [
    "print(students[2:4])"
   ]
  },
  {
   "cell_type": "code",
   "execution_count": 13,
   "id": "2dedc25e",
   "metadata": {},
   "outputs": [
    {
     "name": "stdout",
     "output_type": "stream",
     "text": [
      "['sonu', 'riya', 'areeba', 'hameed']\n"
     ]
    }
   ],
   "source": [
    "print(students[0:7:2])"
   ]
  },
  {
   "cell_type": "code",
   "execution_count": null,
   "id": "a6bdf888",
   "metadata": {},
   "outputs": [],
   "source": []
  },
  {
   "cell_type": "code",
   "execution_count": null,
   "id": "960572f4",
   "metadata": {},
   "outputs": [],
   "source": []
  },
  {
   "cell_type": "code",
   "execution_count": null,
   "id": "16b814fd",
   "metadata": {},
   "outputs": [],
   "source": []
  },
  {
   "cell_type": "code",
   "execution_count": null,
   "id": "fb23debe",
   "metadata": {},
   "outputs": [],
   "source": []
  },
  {
   "cell_type": "code",
   "execution_count": null,
   "id": "3ffb45e1",
   "metadata": {},
   "outputs": [],
   "source": []
  },
  {
   "cell_type": "code",
   "execution_count": null,
   "id": "a7946295",
   "metadata": {},
   "outputs": [],
   "source": []
  },
  {
   "cell_type": "code",
   "execution_count": null,
   "id": "0414c0d1",
   "metadata": {},
   "outputs": [],
   "source": []
  }
 ],
 "metadata": {
  "kernelspec": {
   "display_name": "Python 3 (ipykernel)",
   "language": "python",
   "name": "python3"
  },
  "language_info": {
   "codemirror_mode": {
    "name": "ipython",
    "version": 3
   },
   "file_extension": ".py",
   "mimetype": "text/x-python",
   "name": "python",
   "nbconvert_exporter": "python",
   "pygments_lexer": "ipython3",
   "version": "3.9.13"
  }
 },
 "nbformat": 4,
 "nbformat_minor": 5
}
