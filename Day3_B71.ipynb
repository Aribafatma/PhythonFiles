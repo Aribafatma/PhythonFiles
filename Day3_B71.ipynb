{
 "cells": [
  {
   "cell_type": "code",
   "execution_count": null,
   "id": "d2cd4b2a",
   "metadata": {},
   "outputs": [],
   "source": [
    "continuation with strings"
   ]
  },
  {
   "cell_type": "code",
   "execution_count": 1,
   "id": "996fbabd",
   "metadata": {},
   "outputs": [
    {
     "name": "stdout",
     "output_type": "stream",
     "text": [
      "ravi chandra\n"
     ]
    }
   ],
   "source": [
    "full_name = 'ravi chandra'\n",
    "print(full_name )"
   ]
  },
  {
   "cell_type": "code",
   "execution_count": 2,
   "id": "aefe8a86",
   "metadata": {},
   "outputs": [
    {
     "name": "stdout",
     "output_type": "stream",
     "text": [
      "Ravi Chandra\n"
     ]
    }
   ],
   "source": [
    "print(full_name.title())"
   ]
  },
  {
   "cell_type": "code",
   "execution_count": null,
   "id": "c2715bd1",
   "metadata": {},
   "outputs": [],
   "source": [
    "#req : i want to get the full name in capital letters .......?"
   ]
  },
  {
   "cell_type": "code",
   "execution_count": 3,
   "id": "fa3f2804",
   "metadata": {},
   "outputs": [
    {
     "name": "stdout",
     "output_type": "stream",
     "text": [
      "RAVI CHANDRA\n"
     ]
    }
   ],
   "source": [
    "print(full_name.upper())"
   ]
  },
  {
   "cell_type": "code",
   "execution_count": null,
   "id": "0e0e498b",
   "metadata": {},
   "outputs": [],
   "source": [
    "#req : i want to get the full name in small letters .......?"
   ]
  },
  {
   "cell_type": "code",
   "execution_count": 4,
   "id": "f0c34595",
   "metadata": {},
   "outputs": [
    {
     "name": "stdout",
     "output_type": "stream",
     "text": [
      "ravi chandra\n"
     ]
    }
   ],
   "source": [
    "print(full_name.lower())"
   ]
  },
  {
   "cell_type": "code",
   "execution_count": null,
   "id": "5434e115",
   "metadata": {},
   "outputs": [],
   "source": []
  },
  {
   "cell_type": "code",
   "execution_count": null,
   "id": "822ce675",
   "metadata": {},
   "outputs": [],
   "source": [
    "introduction to f string :\n",
    "    #general syntax of f string:\n",
    "    print(f\" custom words{placeholder - 1}{placeholder - 2} {placholder..........n}\")"
   ]
  },
  {
   "cell_type": "code",
   "execution_count": 3,
   "id": "009c4923",
   "metadata": {},
   "outputs": [],
   "source": [
    "first_name ='varun'\n",
    "\n",
    "last_name = 'kumar'"
   ]
  },
  {
   "cell_type": "code",
   "execution_count": null,
   "id": "d73b3e11",
   "metadata": {},
   "outputs": [],
   "source": [
    "#req : i want to get the full name .....?"
   ]
  },
  {
   "cell_type": "code",
   "execution_count": 11,
   "id": "177e9157",
   "metadata": {},
   "outputs": [
    {
     "name": "stdout",
     "output_type": "stream",
     "text": [
      "varun kumar\n"
     ]
    }
   ],
   "source": [
    "print(f\"{first_name} {last_name}\")"
   ]
  },
  {
   "cell_type": "code",
   "execution_count": 4,
   "id": "81125881",
   "metadata": {},
   "outputs": [
    {
     "name": "stdout",
     "output_type": "stream",
     "text": [
      "varun kumar\n"
     ]
    }
   ],
   "source": [
    "full_name =f\"{first_name} {last_name}\"\n",
    "print(full_name)"
   ]
  },
  {
   "cell_type": "code",
   "execution_count": 5,
   "id": "7706f1b6",
   "metadata": {},
   "outputs": [
    {
     "name": "stdout",
     "output_type": "stream",
     "text": [
      "Varun Kumar\n"
     ]
    }
   ],
   "source": [
    "print(full_name.title())"
   ]
  },
  {
   "cell_type": "code",
   "execution_count": null,
   "id": "ada8937a",
   "metadata": {},
   "outputs": [],
   "source": [
    "#req : to appreciate varun"
   ]
  },
  {
   "cell_type": "code",
   "execution_count": 6,
   "id": "e30c4f3e",
   "metadata": {},
   "outputs": [
    {
     "name": "stdout",
     "output_type": "stream",
     "text": [
      "keep up the good work,Varun Kumar\n"
     ]
    }
   ],
   "source": [
    "print(f\"keep up the good work,{full_name.title()}\")"
   ]
  },
  {
   "cell_type": "code",
   "execution_count": null,
   "id": "e9da0ccf",
   "metadata": {},
   "outputs": [],
   "source": [
    "#adding whitespaces to strings :"
   ]
  },
  {
   "cell_type": "code",
   "execution_count": 14,
   "id": "10194a1c",
   "metadata": {
    "scrolled": true
   },
   "outputs": [
    {
     "name": "stdout",
     "output_type": "stream",
     "text": [
      "favorite_languages:pythonjavac++cobalpascal\n"
     ]
    }
   ],
   "source": [
    "print(\"favorite_languages:pythonjavac++cobalpascal\")"
   ]
  },
  {
   "cell_type": "code",
   "execution_count": 12,
   "id": "c7fb7498",
   "metadata": {},
   "outputs": [
    {
     "name": "stdout",
     "output_type": "stream",
     "text": [
      "favorite_languages:\n",
      "python\n",
      "java\n",
      "c++\n",
      "cobal\n",
      "pascal\n"
     ]
    }
   ],
   "source": [
    "print(\"favorite_languages:\\npython\\njava\\nc++\\ncobal\\npascal\") #new line delimiter"
   ]
  },
  {
   "cell_type": "code",
   "execution_count": 13,
   "id": "5b52201e",
   "metadata": {},
   "outputs": [
    {
     "name": "stdout",
     "output_type": "stream",
     "text": [
      "favorite_languages:\n",
      "\tpython\n",
      "\tjava\n",
      "\tc++\n",
      "\tcobal\n",
      "\tpascal\n"
     ]
    }
   ],
   "source": [
    "print(\"favorite_languages:\\n\\tpython\\n\\tjava\\n\\tc++\\n\\tcobal\\n\\tpascal\")"
   ]
  },
  {
   "cell_type": "code",
   "execution_count": 10,
   "id": "4c972083",
   "metadata": {},
   "outputs": [],
   "source": [
    "#removing white space from strings:"
   ]
  },
  {
   "cell_type": "markdown",
   "id": "1f9b984f",
   "metadata": {},
   "source": []
  },
  {
   "cell_type": "code",
   "execution_count": 11,
   "id": "1dd3898f",
   "metadata": {},
   "outputs": [
    {
     "name": "stdout",
     "output_type": "stream",
     "text": [
      "python\n"
     ]
    }
   ],
   "source": [
    "name = 'python'\n",
    "print(name)"
   ]
  },
  {
   "cell_type": "code",
   "execution_count": 15,
   "id": "59157b3a",
   "metadata": {},
   "outputs": [
    {
     "name": "stdout",
     "output_type": "stream",
     "text": [
      "  python\n"
     ]
    }
   ],
   "source": [
    "name2 = '  python'\n",
    "print(name2)"
   ]
  },
  {
   "cell_type": "code",
   "execution_count": 16,
   "id": "d28828d6",
   "metadata": {},
   "outputs": [
    {
     "name": "stdout",
     "output_type": "stream",
     "text": [
      "python  \n"
     ]
    }
   ],
   "source": [
    "name3 = 'python  '\n",
    "print(name3)"
   ]
  },
  {
   "cell_type": "code",
   "execution_count": 17,
   "id": "23844c12",
   "metadata": {},
   "outputs": [
    {
     "data": {
      "text/plain": [
       "'python'"
      ]
     },
     "execution_count": 17,
     "metadata": {},
     "output_type": "execute_result"
    }
   ],
   "source": [
    "name2.lstrip()   #left strip====>only targets on the left...."
   ]
  },
  {
   "cell_type": "code",
   "execution_count": 19,
   "id": "7fb3c4d3",
   "metadata": {},
   "outputs": [
    {
     "data": {
      "text/plain": [
       "'python'"
      ]
     },
     "execution_count": 19,
     "metadata": {},
     "output_type": "execute_result"
    }
   ],
   "source": [
    "name3.rstrip()    #right strip====>only targets on the right...."
   ]
  },
  {
   "cell_type": "code",
   "execution_count": null,
   "id": "0fdd4791",
   "metadata": {},
   "outputs": [],
   "source": []
  }
 ],
 "metadata": {
  "kernelspec": {
   "display_name": "Python 3 (ipykernel)",
   "language": "python",
   "name": "python3"
  },
  "language_info": {
   "codemirror_mode": {
    "name": "ipython",
    "version": 3
   },
   "file_extension": ".py",
   "mimetype": "text/x-python",
   "name": "python",
   "nbconvert_exporter": "python",
   "pygments_lexer": "ipython3",
   "version": "3.9.13"
  }
 },
 "nbformat": 4,
 "nbformat_minor": 5
}
