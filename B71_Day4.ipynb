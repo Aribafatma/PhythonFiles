{
 "cells": [
  {
   "cell_type": "code",
   "execution_count": null,
   "id": "73d98d1f",
   "metadata": {},
   "outputs": [],
   "source": [
    "introduction to numbers:"
   ]
  },
  {
   "cell_type": "code",
   "execution_count": null,
   "id": "220512a5",
   "metadata": {},
   "outputs": [],
   "source": [
    "integers----> int 0,1,2.......\n",
    "floats------>float----->0.1,0.5,5.2"
   ]
  },
  {
   "cell_type": "code",
   "execution_count": null,
   "id": "737a0855",
   "metadata": {},
   "outputs": [],
   "source": []
  },
  {
   "cell_type": "code",
   "execution_count": 1,
   "id": "42434828",
   "metadata": {},
   "outputs": [],
   "source": [
    "number = 2"
   ]
  },
  {
   "cell_type": "code",
   "execution_count": 2,
   "id": "c01caa2a",
   "metadata": {},
   "outputs": [
    {
     "name": "stdout",
     "output_type": "stream",
     "text": [
      "2\n"
     ]
    }
   ],
   "source": [
    "print(number)"
   ]
  },
  {
   "cell_type": "code",
   "execution_count": 3,
   "id": "8f43ab0b",
   "metadata": {},
   "outputs": [
    {
     "data": {
      "text/plain": [
       "int"
      ]
     },
     "execution_count": 3,
     "metadata": {},
     "output_type": "execute_result"
    }
   ],
   "source": [
    "type(number)"
   ]
  },
  {
   "cell_type": "code",
   "execution_count": 4,
   "id": "44e23e17",
   "metadata": {},
   "outputs": [],
   "source": [
    "n=5.6"
   ]
  },
  {
   "cell_type": "code",
   "execution_count": 5,
   "id": "9f8deeb9",
   "metadata": {},
   "outputs": [
    {
     "name": "stdout",
     "output_type": "stream",
     "text": [
      "5.6\n"
     ]
    }
   ],
   "source": [
    "print(n)"
   ]
  },
  {
   "cell_type": "code",
   "execution_count": 6,
   "id": "75bc81b2",
   "metadata": {},
   "outputs": [
    {
     "data": {
      "text/plain": [
       "float"
      ]
     },
     "execution_count": 6,
     "metadata": {},
     "output_type": "execute_result"
    }
   ],
   "source": [
    "type(n)"
   ]
  },
  {
   "cell_type": "code",
   "execution_count": null,
   "id": "9b698309",
   "metadata": {},
   "outputs": [],
   "source": [
    "introduction to list datatypes:"
   ]
  },
  {
   "cell_type": "raw",
   "id": "98d313ec",
   "metadata": {},
   "source": [
    "defination:A list isa collection of item declared in a particular order.\n",
    "classification :mutable datatypes\n",
    "how to define / declare the list datatype=====> []"
   ]
  },
  {
   "cell_type": "code",
   "execution_count": 7,
   "id": "9dd789af",
   "metadata": {},
   "outputs": [],
   "source": [
    "students = [ 'kumar','naveed','amala','areeba','keerthi','juveriya'] #0,1,2,3,4,5"
   ]
  },
  {
   "cell_type": "code",
   "execution_count": 8,
   "id": "7e2f6685",
   "metadata": {},
   "outputs": [
    {
     "name": "stdout",
     "output_type": "stream",
     "text": [
      "['kumar', 'naveed', 'amala', 'areeba', 'keerthi', 'juveriya']\n"
     ]
    }
   ],
   "source": [
    "print(students)"
   ]
  },
  {
   "cell_type": "code",
   "execution_count": null,
   "id": "c9de15f0",
   "metadata": {},
   "outputs": [],
   "source": [
    "understanding the concept of indexing:\n",
    "    0,1,2,3...........N"
   ]
  },
  {
   "cell_type": "raw",
   "id": "4ab68a8b",
   "metadata": {},
   "source": []
  },
  {
   "cell_type": "code",
   "execution_count": null,
   "id": "64a21b04",
   "metadata": {},
   "outputs": [],
   "source": [
    "#req : i want to access naveed name in the output....?"
   ]
  },
  {
   "cell_type": "code",
   "execution_count": 9,
   "id": "07ece5d1",
   "metadata": {},
   "outputs": [
    {
     "name": "stdout",
     "output_type": "stream",
     "text": [
      "naveed\n"
     ]
    }
   ],
   "source": [
    "print(students[1])"
   ]
  },
  {
   "cell_type": "code",
   "execution_count": 12,
   "id": "58cb763d",
   "metadata": {},
   "outputs": [
    {
     "name": "stdout",
     "output_type": "stream",
     "text": [
      "Naveed\n"
     ]
    }
   ],
   "source": [
    "print(students[1].title())"
   ]
  },
  {
   "cell_type": "code",
   "execution_count": null,
   "id": "899106ce",
   "metadata": {},
   "outputs": [],
   "source": [
    "1.how to add new elements to the list\n",
    "\n",
    "2. how to modifiy the element the list\n",
    "\n",
    "3.how to delete the elements in the list"
   ]
  },
  {
   "cell_type": "code",
   "execution_count": null,
   "id": "328f2845",
   "metadata": {},
   "outputs": [],
   "source": []
  },
  {
   "cell_type": "code",
   "execution_count": null,
   "id": "f1234c97",
   "metadata": {},
   "outputs": [],
   "source": [
    "#req : i want to add ramesh to the above list...."
   ]
  },
  {
   "cell_type": "code",
   "execution_count": 13,
   "id": "4fe1ec94",
   "metadata": {},
   "outputs": [],
   "source": [
    "students.append('ramesh')"
   ]
  },
  {
   "cell_type": "code",
   "execution_count": 14,
   "id": "d7762ebd",
   "metadata": {},
   "outputs": [
    {
     "name": "stdout",
     "output_type": "stream",
     "text": [
      "['kumar', 'naveed', 'amala', 'areeba', 'keerthi', 'juveriya', 'ramesh']\n"
     ]
    }
   ],
   "source": [
    "print(students)"
   ]
  },
  {
   "cell_type": "code",
   "execution_count": null,
   "id": "13d6bd8e",
   "metadata": {},
   "outputs": [],
   "source": []
  },
  {
   "cell_type": "code",
   "execution_count": null,
   "id": "216e714d",
   "metadata": {},
   "outputs": [],
   "source": [
    "#req : i want to add triveni to the above list...."
   ]
  },
  {
   "cell_type": "code",
   "execution_count": 15,
   "id": "7faf3f34",
   "metadata": {},
   "outputs": [],
   "source": [
    "students.append('triveni')"
   ]
  },
  {
   "cell_type": "code",
   "execution_count": 16,
   "id": "7848cec8",
   "metadata": {},
   "outputs": [
    {
     "name": "stdout",
     "output_type": "stream",
     "text": [
      "['kumar', 'naveed', 'amala', 'areeba', 'keerthi', 'juveriya', 'ramesh', 'triveni']\n"
     ]
    }
   ],
   "source": [
    "print(students)"
   ]
  },
  {
   "cell_type": "code",
   "execution_count": null,
   "id": "c3fc5244",
   "metadata": {},
   "outputs": [],
   "source": [
    "#req : i want to add mohit name to the 2nd index position....."
   ]
  },
  {
   "cell_type": "code",
   "execution_count": 17,
   "id": "184065ce",
   "metadata": {},
   "outputs": [],
   "source": [
    "students.insert(2,'mohit')"
   ]
  },
  {
   "cell_type": "code",
   "execution_count": 18,
   "id": "54cf3c16",
   "metadata": {},
   "outputs": [
    {
     "name": "stdout",
     "output_type": "stream",
     "text": [
      "['kumar', 'naveed', 'mohit', 'amala', 'areeba', 'keerthi', 'juveriya', 'ramesh', 'triveni']\n"
     ]
    }
   ],
   "source": [
    "print(students)"
   ]
  },
  {
   "cell_type": "code",
   "execution_count": 20,
   "id": "d800e2c0",
   "metadata": {},
   "outputs": [
    {
     "name": "stdout",
     "output_type": "stream",
     "text": [
      "mohit\n"
     ]
    }
   ],
   "source": [
    "print(students[2])"
   ]
  },
  {
   "cell_type": "code",
   "execution_count": null,
   "id": "06490f2f",
   "metadata": {},
   "outputs": [],
   "source": [
    "interview questions : can you explain the diff btw append and insert method in a list......?"
   ]
  },
  {
   "cell_type": "code",
   "execution_count": null,
   "id": "e3c92044",
   "metadata": {},
   "outputs": [],
   "source": [
    "#how to modify the elements in the list datatype....."
   ]
  },
  {
   "cell_type": "code",
   "execution_count": 21,
   "id": "b297ef17",
   "metadata": {},
   "outputs": [
    {
     "name": "stdout",
     "output_type": "stream",
     "text": [
      "['kumar', 'naveed', 'mohit', 'amala', 'areeba', 'keerthi', 'juveriya', 'ramesh', 'triveni']\n"
     ]
    }
   ],
   "source": [
    "print(students)"
   ]
  },
  {
   "cell_type": "code",
   "execution_count": null,
   "id": "41251d62",
   "metadata": {},
   "outputs": [],
   "source": [
    "#req : i want to modify naveed name to hamza.....?"
   ]
  },
  {
   "cell_type": "code",
   "execution_count": 22,
   "id": "23f7a1a8",
   "metadata": {},
   "outputs": [],
   "source": [
    "students[1] = 'hamza'"
   ]
  },
  {
   "cell_type": "code",
   "execution_count": 23,
   "id": "3a7a5752",
   "metadata": {},
   "outputs": [
    {
     "name": "stdout",
     "output_type": "stream",
     "text": [
      "['kumar', 'hamza', 'mohit', 'amala', 'areeba', 'keerthi', 'juveriya', 'ramesh', 'triveni']\n"
     ]
    }
   ],
   "source": [
    "print(students)"
   ]
  },
  {
   "cell_type": "code",
   "execution_count": null,
   "id": "7aaebe1f",
   "metadata": {},
   "outputs": [],
   "source": []
  },
  {
   "cell_type": "code",
   "execution_count": null,
   "id": "faf51381",
   "metadata": {},
   "outputs": [],
   "source": [
    "#how to delete the elements from the list datatype...."
   ]
  },
  {
   "cell_type": "code",
   "execution_count": null,
   "id": "bf9bfceb",
   "metadata": {},
   "outputs": [],
   "source": [
    "#req : i want to delete kumar name from the above list.....?"
   ]
  },
  {
   "cell_type": "code",
   "execution_count": 24,
   "id": "04ea7232",
   "metadata": {},
   "outputs": [],
   "source": [
    "del students[0]"
   ]
  },
  {
   "cell_type": "code",
   "execution_count": 25,
   "id": "4cf80626",
   "metadata": {},
   "outputs": [
    {
     "name": "stdout",
     "output_type": "stream",
     "text": [
      "['hamza', 'mohit', 'amala', 'areeba', 'keerthi', 'juveriya', 'ramesh', 'triveni']\n"
     ]
    }
   ],
   "source": [
    "print(students)"
   ]
  },
  {
   "cell_type": "code",
   "execution_count": 26,
   "id": "a7b0ba12",
   "metadata": {},
   "outputs": [
    {
     "name": "stdout",
     "output_type": "stream",
     "text": [
      "['hamza', 'mohit', 'amala', 'keerthi', 'juveriya', 'ramesh', 'triveni']\n"
     ]
    }
   ],
   "source": [
    "del students[3]\n",
    "print(students)"
   ]
  },
  {
   "cell_type": "code",
   "execution_count": null,
   "id": "0789c7b4",
   "metadata": {},
   "outputs": [],
   "source": []
  }
 ],
 "metadata": {
  "kernelspec": {
   "display_name": "Python 3 (ipykernel)",
   "language": "python",
   "name": "python3"
  },
  "language_info": {
   "codemirror_mode": {
    "name": "ipython",
    "version": 3
   },
   "file_extension": ".py",
   "mimetype": "text/x-python",
   "name": "python",
   "nbconvert_exporter": "python",
   "pygments_lexer": "ipython3",
   "version": "3.9.13"
  }
 },
 "nbformat": 4,
 "nbformat_minor": 5
}
